{
 "cells": [
  {
   "cell_type": "code",
   "execution_count": 1,
   "id": "6828b173-6d06-443b-bad9-65de752c5e31",
   "metadata": {},
   "outputs": [],
   "source": [
    "import pandas as pd"
   ]
  },
  {
   "cell_type": "code",
   "execution_count": 95,
   "id": "d462f06b-d39e-435a-8778-df22705247ab",
   "metadata": {},
   "outputs": [
    {
     "data": {
      "text/html": [
       "<div>\n",
       "<style scoped>\n",
       "    .dataframe tbody tr th:only-of-type {\n",
       "        vertical-align: middle;\n",
       "    }\n",
       "\n",
       "    .dataframe tbody tr th {\n",
       "        vertical-align: top;\n",
       "    }\n",
       "\n",
       "    .dataframe thead th {\n",
       "        text-align: right;\n",
       "    }\n",
       "</style>\n",
       "<table border=\"1\" class=\"dataframe\">\n",
       "  <thead>\n",
       "    <tr style=\"text-align: right;\">\n",
       "      <th></th>\n",
       "      <th>docno</th>\n",
       "      <th>doclen</th>\n",
       "      <th>text</th>\n",
       "    </tr>\n",
       "  </thead>\n",
       "  <tbody>\n",
       "    <tr>\n",
       "      <th>0</th>\n",
       "      <td>LA071790-0001</td>\n",
       "      <td>318</td>\n",
       "      <td>for prefer skip museum go directli gift shop n...</td>\n",
       "    </tr>\n",
       "    <tr>\n",
       "      <th>1</th>\n",
       "      <td>LA062989-0001</td>\n",
       "      <td>44</td>\n",
       "      <td>express conflict ideolog even contain symbol s...</td>\n",
       "    </tr>\n",
       "    <tr>\n",
       "      <th>2</th>\n",
       "      <td>LA062989-0002</td>\n",
       "      <td>51</td>\n",
       "      <td>how inan reason five suprem court justic rule ...</td>\n",
       "    </tr>\n",
       "    <tr>\n",
       "      <th>3</th>\n",
       "      <td>LA062989-0003</td>\n",
       "      <td>31</td>\n",
       "      <td>former california chief justic rose bird use m...</td>\n",
       "    </tr>\n",
       "    <tr>\n",
       "      <th>4</th>\n",
       "      <td>LA062989-0004</td>\n",
       "      <td>117</td>\n",
       "      <td>angri congressmen vow protect flag headlin art...</td>\n",
       "    </tr>\n",
       "    <tr>\n",
       "      <th>...</th>\n",
       "      <td>...</td>\n",
       "      <td>...</td>\n",
       "      <td>...</td>\n",
       "    </tr>\n",
       "    <tr>\n",
       "      <th>20567</th>\n",
       "      <td>FT922-1326</td>\n",
       "      <td>106</td>\n",
       "      <td>anglia televis announc costcut measur includ d...</td>\n",
       "    </tr>\n",
       "    <tr>\n",
       "      <th>20568</th>\n",
       "      <td>FT922-1327</td>\n",
       "      <td>254</td>\n",
       "      <td>compani are encourag employe travel road rail ...</td>\n",
       "    </tr>\n",
       "    <tr>\n",
       "      <th>20569</th>\n",
       "      <td>FT922-1328</td>\n",
       "      <td>64</td>\n",
       "      <td>the shambl built 13th centuri citi butcheri ce...</td>\n",
       "    </tr>\n",
       "    <tr>\n",
       "      <th>20570</th>\n",
       "      <td>FT922-1329</td>\n",
       "      <td>115</td>\n",
       "      <td>mr andrew kimmin jail head fail blade group fu...</td>\n",
       "    </tr>\n",
       "    <tr>\n",
       "      <th>20571</th>\n",
       "      <td>FT922-1330</td>\n",
       "      <td>216</td>\n",
       "      <td>wellcom uk pharmaceut group yesterday launch w...</td>\n",
       "    </tr>\n",
       "  </tbody>\n",
       "</table>\n",
       "<p>20572 rows × 3 columns</p>\n",
       "</div>"
      ],
      "text/plain": [
       "               docno  doclen  \\\n",
       "0      LA071790-0001     318   \n",
       "1      LA062989-0001      44   \n",
       "2      LA062989-0002      51   \n",
       "3      LA062989-0003      31   \n",
       "4      LA062989-0004     117   \n",
       "...              ...     ...   \n",
       "20567     FT922-1326     106   \n",
       "20568     FT922-1327     254   \n",
       "20569     FT922-1328      64   \n",
       "20570     FT922-1329     115   \n",
       "20571     FT922-1330     216   \n",
       "\n",
       "                                                    text  \n",
       "0      for prefer skip museum go directli gift shop n...  \n",
       "1      express conflict ideolog even contain symbol s...  \n",
       "2      how inan reason five suprem court justic rule ...  \n",
       "3      former california chief justic rose bird use m...  \n",
       "4      angri congressmen vow protect flag headlin art...  \n",
       "...                                                  ...  \n",
       "20567  anglia televis announc costcut measur includ d...  \n",
       "20568  compani are encourag employe travel road rail ...  \n",
       "20569  the shambl built 13th centuri citi butcheri ce...  \n",
       "20570  mr andrew kimmin jail head fail blade group fu...  \n",
       "20571  wellcom uk pharmaceut group yesterday launch w...  \n",
       "\n",
       "[20572 rows x 3 columns]"
      ]
     },
     "execution_count": 95,
     "metadata": {},
     "output_type": "execute_result"
    }
   ],
   "source": [
    "\n",
    "dataset= pd.read_csv(\"C:/Users/Diptesh Mukherjee/Downloads/news_data.csv\")\n",
    "\n",
    "dataset"
   ]
  },
  {
   "cell_type": "code",
   "execution_count": 4,
   "id": "19c4b25b",
   "metadata": {},
   "outputs": [
    {
     "data": {
      "text/html": [
       "<div>\n",
       "<style scoped>\n",
       "    .dataframe tbody tr th:only-of-type {\n",
       "        vertical-align: middle;\n",
       "    }\n",
       "\n",
       "    .dataframe tbody tr th {\n",
       "        vertical-align: top;\n",
       "    }\n",
       "\n",
       "    .dataframe thead th {\n",
       "        text-align: right;\n",
       "    }\n",
       "</style>\n",
       "<table border=\"1\" class=\"dataframe\">\n",
       "  <thead>\n",
       "    <tr style=\"text-align: right;\">\n",
       "      <th></th>\n",
       "      <th>docno</th>\n",
       "      <th>doclen</th>\n",
       "      <th>text</th>\n",
       "    </tr>\n",
       "  </thead>\n",
       "  <tbody>\n",
       "    <tr>\n",
       "      <th>0</th>\n",
       "      <td>LA071790-0001</td>\n",
       "      <td>318</td>\n",
       "      <td>for prefer skip museum go directli gift shop n...</td>\n",
       "    </tr>\n",
       "    <tr>\n",
       "      <th>1</th>\n",
       "      <td>LA062989-0001</td>\n",
       "      <td>44</td>\n",
       "      <td>express conflict ideolog even contain symbol s...</td>\n",
       "    </tr>\n",
       "    <tr>\n",
       "      <th>2</th>\n",
       "      <td>LA062989-0002</td>\n",
       "      <td>51</td>\n",
       "      <td>how inan reason five suprem court justic rule ...</td>\n",
       "    </tr>\n",
       "    <tr>\n",
       "      <th>3</th>\n",
       "      <td>LA062989-0003</td>\n",
       "      <td>31</td>\n",
       "      <td>former california chief justic rose bird use m...</td>\n",
       "    </tr>\n",
       "    <tr>\n",
       "      <th>4</th>\n",
       "      <td>LA062989-0004</td>\n",
       "      <td>117</td>\n",
       "      <td>angri congressmen vow protect flag headlin art...</td>\n",
       "    </tr>\n",
       "    <tr>\n",
       "      <th>...</th>\n",
       "      <td>...</td>\n",
       "      <td>...</td>\n",
       "      <td>...</td>\n",
       "    </tr>\n",
       "    <tr>\n",
       "      <th>20567</th>\n",
       "      <td>FT922-1326</td>\n",
       "      <td>106</td>\n",
       "      <td>anglia televis announc costcut measur includ d...</td>\n",
       "    </tr>\n",
       "    <tr>\n",
       "      <th>20568</th>\n",
       "      <td>FT922-1327</td>\n",
       "      <td>254</td>\n",
       "      <td>compani are encourag employe travel road rail ...</td>\n",
       "    </tr>\n",
       "    <tr>\n",
       "      <th>20569</th>\n",
       "      <td>FT922-1328</td>\n",
       "      <td>64</td>\n",
       "      <td>the shambl built 13th centuri citi butcheri ce...</td>\n",
       "    </tr>\n",
       "    <tr>\n",
       "      <th>20570</th>\n",
       "      <td>FT922-1329</td>\n",
       "      <td>115</td>\n",
       "      <td>mr andrew kimmin jail head fail blade group fu...</td>\n",
       "    </tr>\n",
       "    <tr>\n",
       "      <th>20571</th>\n",
       "      <td>FT922-1330</td>\n",
       "      <td>216</td>\n",
       "      <td>wellcom uk pharmaceut group yesterday launch w...</td>\n",
       "    </tr>\n",
       "  </tbody>\n",
       "</table>\n",
       "<p>20572 rows × 3 columns</p>\n",
       "</div>"
      ],
      "text/plain": [
       "               docno  doclen  \\\n",
       "0      LA071790-0001     318   \n",
       "1      LA062989-0001      44   \n",
       "2      LA062989-0002      51   \n",
       "3      LA062989-0003      31   \n",
       "4      LA062989-0004     117   \n",
       "...              ...     ...   \n",
       "20567     FT922-1326     106   \n",
       "20568     FT922-1327     254   \n",
       "20569     FT922-1328      64   \n",
       "20570     FT922-1329     115   \n",
       "20571     FT922-1330     216   \n",
       "\n",
       "                                                    text  \n",
       "0      for prefer skip museum go directli gift shop n...  \n",
       "1      express conflict ideolog even contain symbol s...  \n",
       "2      how inan reason five suprem court justic rule ...  \n",
       "3      former california chief justic rose bird use m...  \n",
       "4      angri congressmen vow protect flag headlin art...  \n",
       "...                                                  ...  \n",
       "20567  anglia televis announc costcut measur includ d...  \n",
       "20568  compani are encourag employe travel road rail ...  \n",
       "20569  the shambl built 13th centuri citi butcheri ce...  \n",
       "20570  mr andrew kimmin jail head fail blade group fu...  \n",
       "20571  wellcom uk pharmaceut group yesterday launch w...  \n",
       "\n",
       "[20572 rows x 3 columns]"
      ]
     },
     "execution_count": 4,
     "metadata": {},
     "output_type": "execute_result"
    }
   ],
   "source": [
    "dataset"
   ]
  },
  {
   "cell_type": "code",
   "execution_count": 5,
   "id": "a7098585-953e-49ba-8923-4252df04bc85",
   "metadata": {},
   "outputs": [],
   "source": [
    "from nltk.sentiment.vader import SentimentIntensityAnalyzer"
   ]
  },
  {
   "cell_type": "code",
   "execution_count": 6,
   "id": "348c1bfa",
   "metadata": {},
   "outputs": [
    {
     "name": "stderr",
     "output_type": "stream",
     "text": [
      "[nltk_data] Downloading package vader_lexicon to C:\\Users\\Diptesh\n",
      "[nltk_data]     Mukherjee\\AppData\\Roaming\\nltk_data...\n",
      "[nltk_data]   Package vader_lexicon is already up-to-date!\n"
     ]
    },
    {
     "data": {
      "text/plain": [
       "True"
      ]
     },
     "execution_count": 6,
     "metadata": {},
     "output_type": "execute_result"
    }
   ],
   "source": [
    "import nltk\n",
    "nltk.downloader.download('vader_lexicon')"
   ]
  },
  {
   "cell_type": "code",
   "execution_count": 96,
   "id": "3f339afa-f0a5-4285-ad8b-68e4b809a7e5",
   "metadata": {},
   "outputs": [],
   "source": [
    "\n",
    "count=0\n",
    "sid = SentimentIntensityAnalyzer()\n",
    "neg_results=[]\n",
    "pos_results=[]\n",
    "neu_results=[]\n",
    "compunds=[]\n",
    "\n",
    "\n",
    "\n",
    "\n",
    "for i in range(0,len(dataset)):\n",
    "     #print(dataset.iloc[i][\"docno\"])\n",
    "     ss = sid.polarity_scores(dataset.iloc[i][\"text\"])\n",
    "     neg_results.append(ss[\"neg\"])\n",
    "     pos_results.append(ss[\"pos\"])\n",
    "     neu_results.append(ss[\"neu\"])\n",
    "     compunds.append(ss[\"compound\"])\n",
    "\n",
    "dataset[\"neg\"]=neg_results\n",
    "dataset[\"pos\"]=pos_results\n",
    "\n",
    "\n",
    "dataset[\"neu\"]=neu_results\n",
    "\n",
    "\n",
    "dataset[\"compund\"]=compunds\n",
    "\n",
    "\n",
    "        \n",
    "\n",
    "\n",
    "\n",
    "    \n",
    "    \n",
    "\n",
    "    "
   ]
  },
  {
   "cell_type": "code",
   "execution_count": 8,
   "id": "0789594f-fe57-4023-966e-19703d08b43e",
   "metadata": {},
   "outputs": [
    {
     "data": {
      "text/plain": [
       "0.0701877795061244"
      ]
     },
     "execution_count": 8,
     "metadata": {},
     "output_type": "execute_result"
    }
   ],
   "source": [
    "dataset[\"neg\"].mean()"
   ]
  },
  {
   "cell_type": "code",
   "execution_count": 9,
   "id": "1cc6debe-c440-422c-9902-2d7fcfcba037",
   "metadata": {},
   "outputs": [
    {
     "data": {
      "text/plain": [
       "0.09528456153995722"
      ]
     },
     "execution_count": 9,
     "metadata": {},
     "output_type": "execute_result"
    }
   ],
   "source": [
    "dataset[\"pos\"].mean()"
   ]
  },
  {
   "cell_type": "code",
   "execution_count": 10,
   "id": "38fad2f5-a5b6-435c-a515-34bb3e78f771",
   "metadata": {},
   "outputs": [
    {
     "data": {
      "text/plain": [
       "0.8345263464903776"
      ]
     },
     "execution_count": 10,
     "metadata": {},
     "output_type": "execute_result"
    }
   ],
   "source": [
    "dataset[\"neu\"].mean()"
   ]
  },
  {
   "cell_type": "code",
   "execution_count": 11,
   "id": "42ffe07c-5e4c-4c63-a8bd-1f9b78715be9",
   "metadata": {},
   "outputs": [
    {
     "data": {
      "text/plain": [
       "0.2986887905891524"
      ]
     },
     "execution_count": 11,
     "metadata": {},
     "output_type": "execute_result"
    }
   ],
   "source": [
    "dataset[\"compund\"].mean()"
   ]
  },
  {
   "cell_type": "code",
   "execution_count": 15,
   "id": "29783953-4bf4-43e6-aa4f-d8da3abff91c",
   "metadata": {},
   "outputs": [],
   "source": [
    "#notneeded\n",
    "count=0\n",
    "my_dict = {}\n",
    "final_results=[]\n",
    "for i in range(0,len(dataset)):\n",
    "     #print(dataset.iloc[i][\"docno\"])\n",
    "     if(dataset.iloc[i][\"pos\"]-dataset.iloc[i][\"neg\"]>=0.03):\n",
    "        final_results.append(\"neg\")\n",
    "       dataset.iloc[i][\"final_result\"]=\"pos\"\n",
    "     if(dataset.iloc[i][\"neg\"]-dataset.iloc[i][\"pos\"]>=0.03):\n",
    "      dataset.iloc[i][\"final_result\"]=\"pos\"\n",
    "     else:\n",
    "      dataset.iloc[i][\"final_result\"]=\"neu\""
   ]
  },
  {
   "cell_type": "code",
   "execution_count": 113,
   "id": "9bd84f0b",
   "metadata": {},
   "outputs": [
    {
     "data": {
      "text/plain": [
       "<AxesSubplot:>"
      ]
     },
     "execution_count": 113,
     "metadata": {},
     "output_type": "execute_result"
    },
    {
     "data": {
      "image/png": "[encoded data removed]",
      "text/plain": [
       "<Figure size 432x288 with 1 Axes>"
      ]
     },
     "metadata": {
      "needs_background": "light"
     },
     "output_type": "display_data"
    }
   ],
   "source": [
    "#plotting the percentage of positive, negative and neutral documents\n",
    "count=0\n",
    "final_results=[]\n",
    "for i in range(0,len(dataset)):\n",
    "     #print(dataset.iloc[i][\"docno\"])\n",
    "      if(dataset.iloc[i][\"compund\"]>=0.5):\n",
    "        final_results.append(\"pos\")\n",
    "      elif(dataset.iloc[i][\"compund\"]<=-0.5):\n",
    "        final_results.append(\"neg\") \n",
    "      else:\n",
    "        final_results.append(\"neu\")  \n",
    "dataset[\"final_results\"]=final_results    \n",
    "dataset[\"final_results\"].value_counts().plot(kind='bar')"
   ]
  },
  {
   "cell_type": "code",
   "execution_count": 104,
   "id": "ff722f6e",
   "metadata": {},
   "outputs": [],
   "source": [
    "#Getting the words from each category of docs\n",
    "\n",
    "my_dict = {}\n",
    "#sid = SentimentIntensityAnalyzer()\n",
    "pos_word_list=[]\n",
    "pos_word_list_docid=[]\n",
    "\n",
    "neu_word_list=[]\n",
    "neu_word_list_docid=[]\n",
    "neg_word_list=[]\n",
    "neg_word_list_docid=[]\n",
    "\n",
    "count=0\n",
    "final_results=[]\n",
    "for i in range(0,len(dataset)):\n",
    "     #print(dataset.iloc[i][\"docno\"])\n",
    "     if(dataset.iloc[i][\"compund\"]>=0.5):\n",
    "         pos_word_list.append(dataset.iloc[i][\"text\"])\n",
    "         pos_word_list_docid.append(dataset.iloc[i][\"docno\"])\n",
    "     elif(dataset.iloc[i][\"compund\"]<=-0.5):\n",
    "         neg_word_list.append(dataset.iloc[i][\"text\"])\n",
    "         neg_word_list_docid.append(dataset.iloc[i][\"docno\"])   \n",
    "     else:\n",
    "         neu_word_list.append(dataset.iloc[i][\"text\"])  \n",
    "         neu_word_list_docid.append(dataset.iloc[i][\"docno\"])   \n"
   ]
  },
  {
   "cell_type": "code",
   "execution_count": 126,
   "id": "75fd810f",
   "metadata": {},
   "outputs": [
    {
     "data": {
      "text/plain": [
       "array(['also', 'back', 'bank', 'busi', 'but', 'call', 'cent', 'chang',\n",
       "       'citi', 'come', 'compani', 'could', 'countri', 'day', 'develop',\n",
       "       'dollar', 'end', 'even', 'expect', 'first', 'fund', 'game',\n",
       "       'gener', 'get', 'go', 'good', 'govern', 'group', 'he', 'high',\n",
       "       'home', 'hous', 'howev', 'in', 'includ', 'increas', 'industri',\n",
       "       'interest', 'invest', 'issu', 'it', 'last', 'like', 'look', 'made',\n",
       "       'make', 'manag', 'mani', 'market', 'may', 'month', 'mr', 'much',\n",
       "       'nation', 'need', 'new', 'next', 'offer', 'one', 'peopl', 'per',\n",
       "       'plan', 'play', 'point', 'pound', 'price', 'product', 'profit',\n",
       "       'public', 'rate', 'report', 'said', 'sale', 'say', 'servic',\n",
       "       'share', 'show', 'sinc', 'state', 'still', 'take', 'the', 'there',\n",
       "       'thi', 'three', 'time', 'trade', 'two', 'uk', 'us', 'use', 'want',\n",
       "       'way', 'we', 'week', 'well', 'work', 'world', 'would', 'year'],\n",
       "      dtype=object)"
      ]
     },
     "execution_count": 126,
     "metadata": {},
     "output_type": "execute_result"
    }
   ],
   "source": [
    "#Getting the words from positive category of docs and getting the words of most occurance\n",
    "pos_word = pd.DataFrame({'pos_word_list_docid':pos_word_list_docid, 'pos_word_list':pos_word_list})\n",
    "from sklearn.feature_extraction.text import TfidfVectorizer\n",
    "tfidf = TfidfVectorizer(max_features=100, strip_accents='unicode', analyzer='word',  lowercase=True, use_idf=False)\n",
    "tfidf.fit_transform(pos_word['pos_word_list'])\n",
    "Y=tfidf.get_feature_names_out(X)\n",
    "Y"
   ]
  },
  {
   "cell_type": "code",
   "execution_count": 110,
   "id": "cbf5cd66",
   "metadata": {},
   "outputs": [
    {
     "data": {
      "text/plain": [
       "array(['also', 'angel', 'area', 'back', 'bank', 'but', 'call', 'case',\n",
       "       'cent', 'charg', 'citi', 'close', 'come', 'compani', 'could',\n",
       "       'counti', 'countri', 'cut', 'day', 'depart', 'dollar', 'end',\n",
       "       'even', 'fire', 'first', 'forc', 'gener', 'get', 'go', 'govern',\n",
       "       'group', 'he', 'home', 'hous', 'howev', 'in', 'includ', 'industri',\n",
       "       'issu', 'it', 'kill', 'last', 'like', 'lo', 'loss', 'made', 'make',\n",
       "       'mani', 'market', 'may', 'member', 'month', 'mr', 'much', 'nation',\n",
       "       'new', 'offic', 'offici', 'one', 'peopl', 'per', 'plan', 'point',\n",
       "       'polic', 'polit', 'pound', 'presid', 'price', 'problem', 'public',\n",
       "       'report', 'right', 'said', 'san', 'say', 'servic', 'sinc', 'state',\n",
       "       'still', 'take', 'the', 'there', 'they', 'thi', 'three', 'time',\n",
       "       'two', 'unit', 'us', 'use', 'want', 'war', 'way', 'we', 'week',\n",
       "       'work', 'world', 'would', 'year', 'yesterday'], dtype=object)"
      ]
     },
     "execution_count": 110,
     "metadata": {},
     "output_type": "execute_result"
    }
   ],
   "source": [
    "#Getting the words from negative category of docs and getting the words of most occurance\n",
    "neg_word = pd.DataFrame({'x':neg_word_list_docid, 'y':neg_word_list})\n",
    "from sklearn.feature_extraction.text import TfidfVectorizer\n",
    "tfidf = TfidfVectorizer(max_features=100, strip_accents='unicode', analyzer='word',  lowercase=True, use_idf=False)\n",
    "X = tfidf.fit_transform(df2['y'])\n",
    "tfidf.get_feature_names_out()"
   ]
  },
  {
   "cell_type": "code",
   "execution_count": 112,
   "id": "9b1347e8",
   "metadata": {},
   "outputs": [
    {
     "data": {
      "text/plain": [
       "array(['10', 'also', 'back', 'bank', 'build', 'busi', 'but', 'call',\n",
       "       'cent', 'citi', 'close', 'compani', 'continu', 'could', 'countri',\n",
       "       'day', 'develop', 'director', 'dollar', 'econom', 'end', 'even',\n",
       "       'expect', 'financi', 'first', 'fund', 'gener', 'go', 'govern',\n",
       "       'group', 'he', 'hous', 'howev', 'in', 'includ', 'increas',\n",
       "       'industri', 'intern', 'invest', 'issu', 'it', 'last', 'lead',\n",
       "       'like', 'london', 'loss', 'made', 'make', 'manag', 'mani',\n",
       "       'market', 'may', 'meet', 'member', 'minist', 'month', 'mr',\n",
       "       'nation', 'new', 'next', 'offic', 'offici', 'one', 'oper', 'parti',\n",
       "       'peopl', 'per', 'plan', 'point', 'pound', 'presid', 'price',\n",
       "       'product', 'public', 'rate', 'report', 'said', 'sale', 'say',\n",
       "       'servic', 'share', 'sinc', 'state', 'take', 'the', 'thi', 'three',\n",
       "       'time', 'trade', 'two', 'uk', 'union', 'us', 'use', 'week', 'work',\n",
       "       'world', 'would', 'year', 'yesterday'], dtype=object)"
      ]
     },
     "execution_count": 112,
     "metadata": {},
     "output_type": "execute_result"
    }
   ],
   "source": [
    "#Getting the words from neutral category of docs and getting the words of most occurance\n",
    "neu_word = pd.DataFrame({'neu_word_list_docid':neu_word_list_docid, 'neu_word_list':neu_word_list})\n",
    "from sklearn.feature_extraction.text import TfidfVectorizer\n",
    "tfidf = TfidfVectorizer(max_features=100, strip_accents='unicode', analyzer='word',  lowercase=True, use_idf=False)\n",
    "X = tfidf.fit_transform(neu_word['neu_word_list'])\n",
    "tfidf.get_feature_names_out()"
   ]
  },
  {
   "cell_type": "code",
   "execution_count": 75,
   "id": "c7a78d0c-e4f4-4663-bf69-e9465543c37c",
   "metadata": {},
   "outputs": [
    {
     "data": {
      "text/plain": [
       "array([[<AxesSubplot:title={'center':'neu'}>]], dtype=object)"
      ]
     },
     "execution_count": 75,
     "metadata": {},
     "output_type": "execute_result"
    },
    {
     "data": {
      "image/png": "[encoded data removed]",
      "text/plain": [
       "<Figure size 432x288 with 1 Axes>"
      ]
     },
     "metadata": {
      "needs_background": "light"
     },
     "output_type": "display_data"
    },
    {
     "data": {
      "image/png": "[encoded data removed]",
      "text/plain": [
       "<Figure size 432x288 with 1 Axes>"
      ]
     },
     "metadata": {
      "needs_background": "light"
     },
     "output_type": "display_data"
    },
    {
     "data": {
      "image/png": "[encoded data removed]",
      "text/plain": [
       "<Figure size 432x288 with 1 Axes>"
      ]
     },
     "metadata": {
      "needs_background": "light"
     },
     "output_type": "display_data"
    }
   ],
   "source": [
    "dataset.hist(column=\"neg\")\n",
    "dataset.hist(column=\"pos\")\n",
    "dataset.hist(column=\"neu\")\n",
    "\n"
   ]
  },
  {
   "cell_type": "code",
   "execution_count": null,
   "id": "b22d914f-2a27-4e60-a8f2-5bfe625f7667",
   "metadata": {},
   "outputs": [],
   "source": [
    "#Random Stuffs\n",
    "from k_means_constrained import KMeansConstrained\n",
    " import numpy as np\n",
    " X = np.array([[1, 2], [1, 4], [1, 0],\n",
    "...                [4, 2], [4, 4], [4, 0]])\n",
    ">>> clf = KMeansConstrained(\n",
    "...     n_clusters=2,\n",
    "...     size_min=2,\n",
    "...     size_max=5,\n",
    "...     random_state=0\n",
    "... )\n",
    ">>> clf.fit_predict(X)\n",
    "array([0, 0, 0, 1, 1, 1], dtype=int32)\n",
    ">>> clf.cluster_centers_\n",
    "array([[ 1.,  2.],\n",
    "       [ 4.,  2.]])\n",
    ">>> clf.labels_\n",
    "array([0, 0, 0, 1, 1, 1], dtype=int32)"
   ]
  },
  {
   "cell_type": "code",
   "execution_count": null,
   "id": "c61d0065",
   "metadata": {},
   "outputs": [],
   "source": []
  }
 ],
 "metadata": {
  "kernelspec": {
   "display_name": "Python 3 (ipykernel)",
   "language": "python",
   "name": "python3"
  },
  "language_info": {
   "codemirror_mode": {
    "name": "ipython",
    "version": 3
   },
   "file_extension": ".py",
   "mimetype": "text/x-python",
   "name": "python",
   "nbconvert_exporter": "python",
   "pygments_lexer": "ipython3",
   "version": "3.9.12"
  }
 },
 "nbformat": 4,
 "nbformat_minor": 5
}
