{
 "cells": [
  {
   "cell_type": "code",
   "execution_count": 1,
   "metadata": {},
   "outputs": [],
   "source": [
    "from wordcloud import WordCloud\n",
    "import matplotlib.pyplot as plt\n",
    "\n",
    "def keyphrase_word_cloud(cluster_num, clustered_data, keyphrase_df):\n",
    "    for clus_num in range(cluster_num):\n",
    "        clus_keyphrases = \"\"\n",
    "        for idx in range(clustered_data.shape[0]):\n",
    "            if clustered_data[idx, -2] == clus_num:\n",
    "                clus_keyphrases += keyphrase_df.iloc[idx,0].split(\" \")[0] + \" \"\n",
    "                clus_keyphrases += keyphrase_df.iloc[idx,2].split(\" \")[0] + \" \"\n",
    "        wordcloud = WordCloud(width = 800, height = 800,\n",
    "                    background_color ='white',\n",
    "                    min_font_size = 10).generate(clus_keyphrases)\n",
    "\n",
    "        # plot the WordCloud image                      \n",
    "        plt.figure(figsize = (8, 8), facecolor = None)\n",
    "        plt.imshow(wordcloud)\n",
    "        plt.axis(\"off\")\n",
    "        plt.tight_layout(pad = 0)\n",
    "        plt.show()\n",
    "        \n",
    "# keyphrase_word_cloud(cluster_num, clustered_data, keyphrase_df)"
   ]
  },
  {
   "cell_type": "code",
   "execution_count": null,
   "metadata": {},
   "outputs": [],
   "source": []
  }
 ],
 "metadata": {
  "kernelspec": {
   "display_name": "Python 3",
   "language": "python",
   "name": "python3"
  },
  "language_info": {
   "codemirror_mode": {
    "name": "ipython",
    "version": 3
   },
   "file_extension": ".py",
   "mimetype": "text/x-python",
   "name": "python",
   "nbconvert_exporter": "python",
   "pygments_lexer": "ipython3",
   "version": "3.7.4"
  }
 },
 "nbformat": 4,
 "nbformat_minor": 4
}
