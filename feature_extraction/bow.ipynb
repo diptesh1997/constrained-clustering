{
 "cells": [
  {
   "cell_type": "code",
   "execution_count": 4,
   "metadata": {},
   "outputs": [
    {
     "name": "stdout",
     "output_type": "stream",
     "text": [
      "['docno', 'doclen', 'text']\n"
     ]
    }
   ],
   "source": [
    "import pandas as pd\n",
    "\n",
    "input_file = \"./data.csv\"\n",
    "data = pd.read_csv(input_file, header = 0)\n",
    "original_headers = list(data.columns.values)\n",
    "print(original_headers)\n"
   ]
  },
  {
   "cell_type": "code",
   "execution_count": 5,
   "metadata": {},
   "outputs": [
    {
     "name": "stdout",
     "output_type": "stream",
     "text": [
      "(array([], dtype=int64),)\n"
     ]
    }
   ],
   "source": [
    "import numpy as np\n",
    "arr = np.where(pd.isna(data['text']))\n",
    "print(arr)\n"
   ]
  },
  {
   "cell_type": "code",
   "execution_count": 19,
   "metadata": {},
   "outputs": [],
   "source": [
    "\n",
    "from sklearn.feature_extraction.text import TfidfVectorizer\n",
    "\n",
    "vectorizer = TfidfVectorizer(max_features=100, strip_accents='unicode', token_pattern = '[a-z]+\\w*', analyzer='word',  lowercase=True, use_idf=True)\n",
    "feature_matrix = vectorizer.fit_transform(data['text'])\n",
    "\n",
    "\n",
    "# corpus = dataset['text'].apply(lambda x: [item for item in str(x).split()])"
   ]
  },
  {
   "cell_type": "code",
   "execution_count": 10,
   "metadata": {},
   "outputs": [
    {
     "name": "stdout",
     "output_type": "stream",
     "text": [
      "(157507, 100)\n"
     ]
    }
   ],
   "source": [
    "#vectorizer.get_feature_names()\n",
    "print(feature_matrix.shape)"
   ]
  },
  {
   "cell_type": "code",
   "execution_count": 18,
   "metadata": {},
   "outputs": [
    {
     "name": "stdout",
     "output_type": "stream",
     "text": [
      "              0         1         2         3    4         5         6   \\\n",
      "0       0.081892  0.159375  0.000000  0.220454  0.0  0.000000  0.000000   \n",
      "1       0.185470  0.090239  0.000000  0.000000  0.0  0.000000  0.000000   \n",
      "2       0.060619  0.058987  0.000000  0.407966  0.0  0.000000  0.000000   \n",
      "3       0.000000  0.000000  0.000000  0.000000  0.0  0.000000  0.000000   \n",
      "4       0.000000  0.000000  0.000000  0.000000  0.0  0.000000  0.000000   \n",
      "...          ...       ...       ...       ...  ...       ...       ...   \n",
      "157502  0.000000  0.000000  0.000000  0.000000  0.0  0.000000  0.000000   \n",
      "157503  0.000000  0.000000  0.000000  0.000000  0.0  0.000000  0.000000   \n",
      "157504  0.041937  0.000000  0.000000  0.000000  0.0  0.142803  0.059030   \n",
      "157505  0.000000  0.000000  0.000000  0.000000  0.0  0.000000  0.138251   \n",
      "157506  0.143226  0.039820  0.027832  0.000000  0.0  0.243852  0.000000   \n",
      "\n",
      "              7         8         9   ...        90        91        92  \\\n",
      "0       0.082969  0.099679  0.000000  ...  0.000000  0.103405  0.000000   \n",
      "1       0.093955  0.112878  0.000000  ...  0.109471  0.234194  0.000000   \n",
      "2       0.000000  0.000000  0.000000  ...  0.071558  0.000000  0.000000   \n",
      "3       0.000000  0.000000  0.000000  ...  0.000000  0.000000  0.000000   \n",
      "4       0.000000  0.000000  0.000000  ...  0.234839  0.000000  0.000000   \n",
      "...          ...       ...       ...  ...       ...       ...       ...   \n",
      "157502  0.000000  0.000000  0.000000  ...  0.000000  0.000000  0.000000   \n",
      "157503  0.000000  0.000000  0.000000  ...  0.000000  0.000000  0.000000   \n",
      "157504  0.000000  0.000000  0.000000  ...  0.099011  0.052954  0.156211   \n",
      "157505  0.000000  0.000000  0.000000  ...  0.000000  0.000000  0.000000   \n",
      "157506  0.000000  0.024905  0.205063  ...  0.000000  0.000000  0.000000   \n",
      "\n",
      "              93        94        95        96   97        98        99  \n",
      "0       0.000000  0.193579  0.000000  0.000000  0.0  0.155000  0.000000  \n",
      "1       0.000000  0.000000  0.000000  0.000000  0.0  0.000000  0.230532  \n",
      "2       0.000000  0.143293  0.000000  0.212426  0.0  0.057368  0.050231  \n",
      "3       0.000000  0.000000  0.000000  0.000000  0.0  0.000000  0.000000  \n",
      "4       0.251264  0.000000  0.000000  0.232379  0.0  0.000000  0.000000  \n",
      "...          ...       ...       ...       ...  ...       ...       ...  \n",
      "157502  0.000000  0.000000  0.000000  0.000000  0.0  0.000000  0.000000  \n",
      "157503  0.000000  0.000000  0.000000  0.000000  0.0  0.000000  0.000000  \n",
      "157504  0.000000  0.000000  0.053930  0.000000  0.0  0.000000  0.104253  \n",
      "157505  0.000000  0.174132  0.126308  0.000000  0.0  0.000000  0.040694  \n",
      "157506  0.000000  0.096732  0.026312  0.000000  0.0  0.058090  0.101728  \n",
      "\n",
      "[157507 rows x 100 columns]\n"
     ]
    }
   ],
   "source": [
    "print(pd.DataFrame(feature_matrix.toarray()))"
   ]
  },
  {
   "cell_type": "markdown",
   "metadata": {},
   "source": []
  }
 ],
 "metadata": {
  "interpreter": {
   "hash": "fd99746d5d03835a040f73f9b97c9addf66f20a4c98010bfbcb520836dc1f894"
  },
  "kernelspec": {
   "display_name": "Python 3.9.7 ('base')",
   "language": "python",
   "name": "python3"
  },
  "language_info": {
   "codemirror_mode": {
    "name": "ipython",
    "version": 3
   },
   "file_extension": ".py",
   "mimetype": "text/x-python",
   "name": "python",
   "nbconvert_exporter": "python",
   "pygments_lexer": "ipython3",
   "version": "3.9.7"
  },
  "orig_nbformat": 4
 },
 "nbformat": 4,
 "nbformat_minor": 2
}
