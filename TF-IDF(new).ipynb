{
 "cells": [
  {
   "cell_type": "code",
   "execution_count": 1,
   "id": "d9df7cec",
   "metadata": {},
   "outputs": [],
   "source": [
    "import numpy as np\n",
    "import pandas as pd\n",
    "import os\n",
    "import numpy as np\n",
    "import pandas as pd\n",
    "import os\n",
    "from sklearn.feature_extraction.text import TfidfVectorizer"
   ]
  },
  {
   "cell_type": "code",
   "execution_count": 2,
   "id": "df9d932e",
   "metadata": {},
   "outputs": [
    {
     "data": {
      "text/html": [
       "<div>\n",
       "<style scoped>\n",
       "    .dataframe tbody tr th:only-of-type {\n",
       "        vertical-align: middle;\n",
       "    }\n",
       "\n",
       "    .dataframe tbody tr th {\n",
       "        vertical-align: top;\n",
       "    }\n",
       "\n",
       "    .dataframe thead th {\n",
       "        text-align: right;\n",
       "    }\n",
       "</style>\n",
       "<table border=\"1\" class=\"dataframe\">\n",
       "  <thead>\n",
       "    <tr style=\"text-align: right;\">\n",
       "      <th></th>\n",
       "      <th>docno</th>\n",
       "      <th>doclen</th>\n",
       "      <th>text</th>\n",
       "    </tr>\n",
       "  </thead>\n",
       "  <tbody>\n",
       "    <tr>\n",
       "      <th>0</th>\n",
       "      <td>LA071790-0001</td>\n",
       "      <td>318</td>\n",
       "      <td>for prefer skip museum go directli gift shop n...</td>\n",
       "    </tr>\n",
       "    <tr>\n",
       "      <th>1</th>\n",
       "      <td>LA062989-0001</td>\n",
       "      <td>44</td>\n",
       "      <td>express conflict ideolog even contain symbol s...</td>\n",
       "    </tr>\n",
       "    <tr>\n",
       "      <th>2</th>\n",
       "      <td>LA062989-0002</td>\n",
       "      <td>51</td>\n",
       "      <td>how inan reason five suprem court justic rule ...</td>\n",
       "    </tr>\n",
       "    <tr>\n",
       "      <th>3</th>\n",
       "      <td>LA062989-0003</td>\n",
       "      <td>31</td>\n",
       "      <td>former california chief justic rose bird use m...</td>\n",
       "    </tr>\n",
       "    <tr>\n",
       "      <th>4</th>\n",
       "      <td>LA062989-0004</td>\n",
       "      <td>117</td>\n",
       "      <td>angri congressmen vow protect flag headlin art...</td>\n",
       "    </tr>\n",
       "    <tr>\n",
       "      <th>...</th>\n",
       "      <td>...</td>\n",
       "      <td>...</td>\n",
       "      <td>...</td>\n",
       "    </tr>\n",
       "    <tr>\n",
       "      <th>20567</th>\n",
       "      <td>FT922-1326</td>\n",
       "      <td>106</td>\n",
       "      <td>anglia televis announc costcut measur includ d...</td>\n",
       "    </tr>\n",
       "    <tr>\n",
       "      <th>20568</th>\n",
       "      <td>FT922-1327</td>\n",
       "      <td>254</td>\n",
       "      <td>compani are encourag employe travel road rail ...</td>\n",
       "    </tr>\n",
       "    <tr>\n",
       "      <th>20569</th>\n",
       "      <td>FT922-1328</td>\n",
       "      <td>64</td>\n",
       "      <td>the shambl built 13th centuri citi butcheri ce...</td>\n",
       "    </tr>\n",
       "    <tr>\n",
       "      <th>20570</th>\n",
       "      <td>FT922-1329</td>\n",
       "      <td>115</td>\n",
       "      <td>mr andrew kimmin jail head fail blade group fu...</td>\n",
       "    </tr>\n",
       "    <tr>\n",
       "      <th>20571</th>\n",
       "      <td>FT922-1330</td>\n",
       "      <td>216</td>\n",
       "      <td>wellcom uk pharmaceut group yesterday launch w...</td>\n",
       "    </tr>\n",
       "  </tbody>\n",
       "</table>\n",
       "<p>20572 rows × 3 columns</p>\n",
       "</div>"
      ],
      "text/plain": [
       "               docno  doclen  \\\n",
       "0      LA071790-0001     318   \n",
       "1      LA062989-0001      44   \n",
       "2      LA062989-0002      51   \n",
       "3      LA062989-0003      31   \n",
       "4      LA062989-0004     117   \n",
       "...              ...     ...   \n",
       "20567     FT922-1326     106   \n",
       "20568     FT922-1327     254   \n",
       "20569     FT922-1328      64   \n",
       "20570     FT922-1329     115   \n",
       "20571     FT922-1330     216   \n",
       "\n",
       "                                                    text  \n",
       "0      for prefer skip museum go directli gift shop n...  \n",
       "1      express conflict ideolog even contain symbol s...  \n",
       "2      how inan reason five suprem court justic rule ...  \n",
       "3      former california chief justic rose bird use m...  \n",
       "4      angri congressmen vow protect flag headlin art...  \n",
       "...                                                  ...  \n",
       "20567  anglia televis announc costcut measur includ d...  \n",
       "20568  compani are encourag employe travel road rail ...  \n",
       "20569  the shambl built 13th centuri citi butcheri ce...  \n",
       "20570  mr andrew kimmin jail head fail blade group fu...  \n",
       "20571  wellcom uk pharmaceut group yesterday launch w...  \n",
       "\n",
       "[20572 rows x 3 columns]"
      ]
     },
     "execution_count": 2,
     "metadata": {},
     "output_type": "execute_result"
    }
   ],
   "source": [
    "dataset= pd.read_csv(\"C:/Users/Diptesh Mukherjee/Downloads/news_data.csv\")\n",
    "dataset"
   ]
  },
  {
   "cell_type": "code",
   "execution_count": 3,
   "id": "2eec6735",
   "metadata": {},
   "outputs": [],
   "source": [
    "tfidf = TfidfVectorizer(max_features=100, strip_accents='unicode', analyzer='word',  lowercase=True, use_idf=True)\n",
    "X = tfidf.fit_transform(dataset['text'])"
   ]
  },
  {
   "cell_type": "code",
   "execution_count": 4,
   "id": "cdc0467a",
   "metadata": {},
   "outputs": [
    {
     "data": {
      "text/plain": [
       "array(['also', 'back', 'bank', 'busi', 'but', 'call', 'cent', 'chang',\n",
       "       'citi', 'close', 'come', 'compani', 'could', 'countri', 'day',\n",
       "       'develop', 'dollar', 'end', 'even', 'expect', 'first', 'gener',\n",
       "       'get', 'go', 'good', 'govern', 'group', 'he', 'home', 'hous',\n",
       "       'howev', 'in', 'includ', 'increas', 'industri', 'interest', 'issu',\n",
       "       'it', 'last', 'like', 'made', 'make', 'manag', 'mani', 'market',\n",
       "       'may', 'month', 'mr', 'much', 'nation', 'need', 'new', 'next',\n",
       "       'offic', 'offici', 'one', 'oper', 'peopl', 'per', 'plan', 'play',\n",
       "       'point', 'pound', 'presid', 'price', 'product', 'profit', 'public',\n",
       "       'rate', 'report', 'said', 'sale', 'say', 'servic', 'share', 'show',\n",
       "       'sinc', 'state', 'still', 'take', 'the', 'there', 'they', 'thi',\n",
       "       'three', 'time', 'trade', 'two', 'us', 'use', 'want', 'way', 'we',\n",
       "       'week', 'well', 'work', 'world', 'would', 'year', 'yesterday'],\n",
       "      dtype=object)"
      ]
     },
     "execution_count": 4,
     "metadata": {},
     "output_type": "execute_result"
    }
   ],
   "source": [
    "tfidf.get_feature_names_out()"
   ]
  },
  {
   "cell_type": "code",
   "execution_count": 6,
   "id": "b9f1e9a7",
   "metadata": {},
   "outputs": [],
   "source": [
    "df = pd.DataFrame(X.toarray())\n",
    "df.to_csv (r'C:/Users/Diptesh Mukherjee/Downloads/reduced_feature_tfidf1.csv', index = False, header=True)"
   ]
  },
  {
   "cell_type": "code",
   "execution_count": null,
   "id": "f94b219d",
   "metadata": {},
   "outputs": [],
   "source": []
  }
 ],
 "metadata": {
  "kernelspec": {
   "display_name": "Python 3 (ipykernel)",
   "language": "python",
   "name": "python3"
  },
  "language_info": {
   "codemirror_mode": {
    "name": "ipython",
    "version": 3
   },
   "file_extension": ".py",
   "mimetype": "text/x-python",
   "name": "python",
   "nbconvert_exporter": "python",
   "pygments_lexer": "ipython3",
   "version": "3.9.12"
  }
 },
 "nbformat": 4,
 "nbformat_minor": 5
}
