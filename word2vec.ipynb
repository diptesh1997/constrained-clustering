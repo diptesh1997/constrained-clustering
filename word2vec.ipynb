{
 "cells": [
  {
   "cell_type": "code",
   "execution_count": 5,
   "id": "f4b5f54e-3282-4eb0-bb3a-557aa5f492c4",
   "metadata": {},
   "outputs": [],
   "source": [
    "import numpy as np\n",
    "import pandas as pd\n",
    "import os\n",
    "import numpy as np\n",
    "import pandas as pd\n",
    "import os\n",
    "from gensim.test.utils import common_texts\n",
    "from gensim.models import Word2Vec\n",
    "\n"
   ]
  },
  {
   "cell_type": "code",
   "execution_count": 17,
   "id": "67f30976-7a01-4a6c-8278-cbf03ab7e6af",
   "metadata": {},
   "outputs": [
    {
     "data": {
      "text/html": [
       "<div>\n",
       "<style scoped>\n",
       "    .dataframe tbody tr th:only-of-type {\n",
       "        vertical-align: middle;\n",
       "    }\n",
       "\n",
       "    .dataframe tbody tr th {\n",
       "        vertical-align: top;\n",
       "    }\n",
       "\n",
       "    .dataframe thead th {\n",
       "        text-align: right;\n",
       "    }\n",
       "</style>\n",
       "<table border=\"1\" class=\"dataframe\">\n",
       "  <thead>\n",
       "    <tr style=\"text-align: right;\">\n",
       "      <th></th>\n",
       "      <th>docno</th>\n",
       "      <th>text</th>\n",
       "    </tr>\n",
       "  </thead>\n",
       "  <tbody>\n",
       "    <tr>\n",
       "      <th>0</th>\n",
       "      <td>FBIS3-40266</td>\n",
       "      <td>languag romanian articl typecso text draft law...</td>\n",
       "    </tr>\n",
       "    <tr>\n",
       "      <th>1</th>\n",
       "      <td>FBIS3-40267</td>\n",
       "      <td>languag romanian articl typecso articl stelian...</td>\n",
       "    </tr>\n",
       "    <tr>\n",
       "      <th>2</th>\n",
       "      <td>FBIS3-40268</td>\n",
       "      <td>languag slovak articl typebfn commentari juliu...</td>\n",
       "    </tr>\n",
       "    <tr>\n",
       "      <th>3</th>\n",
       "      <td>FBIS3-40269</td>\n",
       "      <td>languag slovak articl typecso interview pavol ...</td>\n",
       "    </tr>\n",
       "    <tr>\n",
       "      <th>4</th>\n",
       "      <td>FBIS3-40270</td>\n",
       "      <td>languag slovak articl typebfn ta sr report ste...</td>\n",
       "    </tr>\n",
       "    <tr>\n",
       "      <th>...</th>\n",
       "      <td>...</td>\n",
       "      <td>...</td>\n",
       "    </tr>\n",
       "    <tr>\n",
       "      <th>414950</th>\n",
       "      <td>LA040890-0022</td>\n",
       "      <td>regard april 1 pop eye report film secur guard...</td>\n",
       "    </tr>\n",
       "    <tr>\n",
       "      <th>414951</th>\n",
       "      <td>LA040890-0023</td>\n",
       "      <td>mark leviton whose march 25 letter respond dvo...</td>\n",
       "    </tr>\n",
       "    <tr>\n",
       "      <th>414952</th>\n",
       "      <td>LA040890-0024</td>\n",
       "      <td>true capit demand human interact conduct volun...</td>\n",
       "    </tr>\n",
       "    <tr>\n",
       "      <th>414953</th>\n",
       "      <td>LA040890-0025</td>\n",
       "      <td>with paint face depict classic work art van go...</td>\n",
       "    </tr>\n",
       "    <tr>\n",
       "      <th>414954</th>\n",
       "      <td>LA040890-0026</td>\n",
       "      <td>there adag espous refriger door across america...</td>\n",
       "    </tr>\n",
       "  </tbody>\n",
       "</table>\n",
       "<p>414955 rows × 2 columns</p>\n",
       "</div>"
      ],
      "text/plain": [
       "                  docno                                               text\n",
       "0          FBIS3-40266   languag romanian articl typecso text draft law...\n",
       "1          FBIS3-40267   languag romanian articl typecso articl stelian...\n",
       "2          FBIS3-40268   languag slovak articl typebfn commentari juliu...\n",
       "3          FBIS3-40269   languag slovak articl typecso interview pavol ...\n",
       "4          FBIS3-40270   languag slovak articl typebfn ta sr report ste...\n",
       "...                 ...                                                ...\n",
       "414950   LA040890-0022   regard april 1 pop eye report film secur guard...\n",
       "414951   LA040890-0023   mark leviton whose march 25 letter respond dvo...\n",
       "414952   LA040890-0024   true capit demand human interact conduct volun...\n",
       "414953   LA040890-0025   with paint face depict classic work art van go...\n",
       "414954   LA040890-0026   there adag espous refriger door across america...\n",
       "\n",
       "[414955 rows x 2 columns]"
      ]
     },
     "execution_count": 17,
     "metadata": {},
     "output_type": "execute_result"
    }
   ],
   "source": [
    "\n",
    "dataset= pd.read_csv(\"./news_articles.csv\")\n",
    "dataset"
   ]
  },
  {
   "cell_type": "code",
   "execution_count": 18,
   "id": "6cb61c13-17a0-42c0-b81d-ad40ac59a2a7",
   "metadata": {},
   "outputs": [
    {
     "name": "stdout",
     "output_type": "stream",
     "text": [
      "CPU times: user 10.1 s, sys: 25.2 s, total: 35.3 s\n",
      "Wall time: 52.4 s\n"
     ]
    },
    {
     "data": {
      "text/html": [
       "<div>\n",
       "<style scoped>\n",
       "    .dataframe tbody tr th:only-of-type {\n",
       "        vertical-align: middle;\n",
       "    }\n",
       "\n",
       "    .dataframe tbody tr th {\n",
       "        vertical-align: top;\n",
       "    }\n",
       "\n",
       "    .dataframe thead th {\n",
       "        text-align: right;\n",
       "    }\n",
       "</style>\n",
       "<table border=\"1\" class=\"dataframe\">\n",
       "  <thead>\n",
       "    <tr style=\"text-align: right;\">\n",
       "      <th></th>\n",
       "      <th>docno</th>\n",
       "      <th>text</th>\n",
       "      <th>text_list</th>\n",
       "    </tr>\n",
       "  </thead>\n",
       "  <tbody>\n",
       "    <tr>\n",
       "      <th>0</th>\n",
       "      <td>FBIS3-40266</td>\n",
       "      <td>languag romanian articl typecso text draft law...</td>\n",
       "      <td>[languag, romanian, articl, typecso, text, dra...</td>\n",
       "    </tr>\n",
       "    <tr>\n",
       "      <th>1</th>\n",
       "      <td>FBIS3-40267</td>\n",
       "      <td>languag romanian articl typecso articl stelian...</td>\n",
       "      <td>[languag, romanian, articl, typecso, articl, s...</td>\n",
       "    </tr>\n",
       "    <tr>\n",
       "      <th>2</th>\n",
       "      <td>FBIS3-40268</td>\n",
       "      <td>languag slovak articl typebfn commentari juliu...</td>\n",
       "      <td>[languag, slovak, articl, typebfn, commentari,...</td>\n",
       "    </tr>\n",
       "    <tr>\n",
       "      <th>3</th>\n",
       "      <td>FBIS3-40269</td>\n",
       "      <td>languag slovak articl typecso interview pavol ...</td>\n",
       "      <td>[languag, slovak, articl, typecso, interview, ...</td>\n",
       "    </tr>\n",
       "    <tr>\n",
       "      <th>4</th>\n",
       "      <td>FBIS3-40270</td>\n",
       "      <td>languag slovak articl typebfn ta sr report ste...</td>\n",
       "      <td>[languag, slovak, articl, typebfn, ta, sr, rep...</td>\n",
       "    </tr>\n",
       "    <tr>\n",
       "      <th>...</th>\n",
       "      <td>...</td>\n",
       "      <td>...</td>\n",
       "      <td>...</td>\n",
       "    </tr>\n",
       "    <tr>\n",
       "      <th>414950</th>\n",
       "      <td>LA040890-0022</td>\n",
       "      <td>regard april 1 pop eye report film secur guard...</td>\n",
       "      <td>[regard, april, 1, pop, eye, report, film, sec...</td>\n",
       "    </tr>\n",
       "    <tr>\n",
       "      <th>414951</th>\n",
       "      <td>LA040890-0023</td>\n",
       "      <td>mark leviton whose march 25 letter respond dvo...</td>\n",
       "      <td>[mark, leviton, whose, march, 25, letter, resp...</td>\n",
       "    </tr>\n",
       "    <tr>\n",
       "      <th>414952</th>\n",
       "      <td>LA040890-0024</td>\n",
       "      <td>true capit demand human interact conduct volun...</td>\n",
       "      <td>[true, capit, demand, human, interact, conduct...</td>\n",
       "    </tr>\n",
       "    <tr>\n",
       "      <th>414953</th>\n",
       "      <td>LA040890-0025</td>\n",
       "      <td>with paint face depict classic work art van go...</td>\n",
       "      <td>[with, paint, face, depict, classic, work, art...</td>\n",
       "    </tr>\n",
       "    <tr>\n",
       "      <th>414954</th>\n",
       "      <td>LA040890-0026</td>\n",
       "      <td>there adag espous refriger door across america...</td>\n",
       "      <td>[there, adag, espous, refriger, door, across, ...</td>\n",
       "    </tr>\n",
       "  </tbody>\n",
       "</table>\n",
       "<p>414955 rows × 3 columns</p>\n",
       "</div>"
      ],
      "text/plain": [
       "                  docno                                               text  \\\n",
       "0          FBIS3-40266   languag romanian articl typecso text draft law...   \n",
       "1          FBIS3-40267   languag romanian articl typecso articl stelian...   \n",
       "2          FBIS3-40268   languag slovak articl typebfn commentari juliu...   \n",
       "3          FBIS3-40269   languag slovak articl typecso interview pavol ...   \n",
       "4          FBIS3-40270   languag slovak articl typebfn ta sr report ste...   \n",
       "...                 ...                                                ...   \n",
       "414950   LA040890-0022   regard april 1 pop eye report film secur guard...   \n",
       "414951   LA040890-0023   mark leviton whose march 25 letter respond dvo...   \n",
       "414952   LA040890-0024   true capit demand human interact conduct volun...   \n",
       "414953   LA040890-0025   with paint face depict classic work art van go...   \n",
       "414954   LA040890-0026   there adag espous refriger door across america...   \n",
       "\n",
       "                                                text_list  \n",
       "0       [languag, romanian, articl, typecso, text, dra...  \n",
       "1       [languag, romanian, articl, typecso, articl, s...  \n",
       "2       [languag, slovak, articl, typebfn, commentari,...  \n",
       "3       [languag, slovak, articl, typecso, interview, ...  \n",
       "4       [languag, slovak, articl, typebfn, ta, sr, rep...  \n",
       "...                                                   ...  \n",
       "414950  [regard, april, 1, pop, eye, report, film, sec...  \n",
       "414951  [mark, leviton, whose, march, 25, letter, resp...  \n",
       "414952  [true, capit, demand, human, interact, conduct...  \n",
       "414953  [with, paint, face, depict, classic, work, art...  \n",
       "414954  [there, adag, espous, refriger, door, across, ...  \n",
       "\n",
       "[414955 rows x 3 columns]"
      ]
     },
     "execution_count": 18,
     "metadata": {},
     "output_type": "execute_result"
    }
   ],
   "source": [
    "%%time\n",
    "dataset['text_list']= dataset['text'].apply(lambda x: [item for item in str(x).split()])\n",
    "dataset"
   ]
  },
  {
   "cell_type": "code",
   "execution_count": 14,
   "id": "874be5e1-2517-4863-881d-30f69a76897d",
   "metadata": {
    "tags": []
   },
   "outputs": [
    {
     "name": "stderr",
     "output_type": "stream",
     "text": [
      "<timed exec>:5: DeprecationWarning: Call to deprecated `init_sims` (Gensim 4.0.0 implemented internal optimizations that make calls to init_sims() unnecessary. init_sims() is now obsoleted and will be completely removed in future versions. See https://github.com/RaRe-Technologies/gensim/wiki/Migrating-from-Gensim-3.x-to-4).\n"
     ]
    },
    {
     "name": "stdout",
     "output_type": "stream",
     "text": [
      "CPU times: user 24min 7s, sys: 1min 3s, total: 25min 10s\n",
      "Wall time: 7min 49s\n"
     ]
    }
   ],
   "source": [
    "%%time\n",
    "model = Word2Vec(sentences=dataset['text_list'], vector_size=100, window=5, min_count=1, workers=4)\n",
    "model.save(\"word2vec.model\")\n",
    "model = Word2Vec.load(\"word2vec.model\")\n",
    "#model.train([[\"hello\", \"world\"]], total_examples=1, epochs=1)\n",
    "model.init_sims(replace = True)"
   ]
  },
  {
   "cell_type": "code",
   "execution_count": 15,
   "id": "5a2cb955-670d-4cbe-bcf5-6d823fd64fa4",
   "metadata": {},
   "outputs": [
    {
     "name": "stdout",
     "output_type": "stream",
     "text": [
      "CPU times: user 2min 13s, sys: 3.12 s, total: 2min 16s\n",
      "Wall time: 2min 18s\n"
     ]
    },
    {
     "data": {
      "text/plain": [
       "(414955, 100)"
      ]
     },
     "execution_count": 15,
     "metadata": {},
     "output_type": "execute_result"
    }
   ],
   "source": [
    "%%time\n",
    "\n",
    "\n",
    "def vectorize(list_of_docs, model):\n",
    "    \n",
    "    features = []\n",
    "\n",
    "    for tokens in list_of_docs:\n",
    "        zero_vector = np.zeros(model.vector_size)\n",
    "        vectors = []\n",
    "        for token in tokens:\n",
    "            if token in model.wv:\n",
    "                try:\n",
    "                    vectors.append(model.wv[token])\n",
    "                except KeyError:\n",
    "                    continue\n",
    "        if vectors:\n",
    "            vectors = np.asarray(vectors)\n",
    "            avg_vec = vectors.mean(axis=0)\n",
    "            features.append(avg_vec)\n",
    "        else:\n",
    "            features.append(zero_vector)\n",
    "    return features\n",
    "    \n",
    "vectorized_docs = vectorize(dataset['text_list'], model=model)\n",
    "len(vectorized_docs), len(vectorized_docs[0])"
   ]
  },
  {
   "cell_type": "code",
   "execution_count": 13,
   "id": "1579e12c-4e65-4cd5-9c23-eef21562e381",
   "metadata": {},
   "outputs": [
    {
     "data": {
      "text/plain": [
       "array([-0.01912336,  0.04229745, -0.01038675,  0.02634132, -0.00790241,\n",
       "        0.01080316, -0.07943522, -0.05295208,  0.05602971, -0.01650112,\n",
       "        0.02788198,  0.02973842, -0.04615209, -0.01225102,  0.01900151,\n",
       "        0.01256215, -0.02570641,  0.05610185, -0.01466871,  0.09858072,\n",
       "       -0.10927626,  0.04409878, -0.09178817,  0.0260084 ,  0.00523009,\n",
       "        0.01851544, -0.04831962,  0.06036098, -0.04803628, -0.00669505,\n",
       "       -0.00459618, -0.05864758,  0.01148522,  0.01205573, -0.00227706,\n",
       "       -0.01262612, -0.03145257,  0.03344459, -0.02208221,  0.0250313 ,\n",
       "       -0.00757672,  0.05617931, -0.0494312 ,  0.02360131, -0.06967851,\n",
       "        0.0028914 , -0.03064244,  0.012432  , -0.00311508, -0.05991148,\n",
       "        0.00866682, -0.02002352,  0.03189332,  0.00754828,  0.01880636,\n",
       "       -0.10264756, -0.00643405, -0.04900251,  0.02248738,  0.02934483,\n",
       "        0.02917347,  0.05195703, -0.02530161, -0.01312673,  0.00431714,\n",
       "       -0.03227659, -0.00261637, -0.01095331,  0.06089908, -0.02400713,\n",
       "        0.0236992 , -0.03293962, -0.01919428,  0.03442929, -0.00506175,\n",
       "       -0.00028165,  0.1169436 ,  0.04395356, -0.03598056,  0.01020414,\n",
       "        0.07545924, -0.01106799,  0.00481271, -0.07346355, -0.00810479,\n",
       "        0.0143609 ,  0.01592079,  0.02574003, -0.01713753, -0.00575506,\n",
       "        0.02377405,  0.02337406, -0.028284  , -0.00840405, -0.03665431,\n",
       "       -0.05896468, -0.00122928,  0.01216816, -0.04550274,  0.03049383],\n",
       "      dtype=float32)"
      ]
     },
     "execution_count": 13,
     "metadata": {},
     "output_type": "execute_result"
    }
   ],
   "source": [
    "vectorized_docs[0]\n"
   ]
  }
 ],
 "metadata": {
  "kernelspec": {
   "display_name": "Python 3 (ipykernel)",
   "language": "python",
   "name": "python3"
  },
  "language_info": {
   "codemirror_mode": {
    "name": "ipython",
    "version": 3
   },
   "file_extension": ".py",
   "mimetype": "text/x-python",
   "name": "python",
   "nbconvert_exporter": "python",
   "pygments_lexer": "ipython3",
   "version": "3.9.6"
  }
 },
 "nbformat": 4,
 "nbformat_minor": 5
}
