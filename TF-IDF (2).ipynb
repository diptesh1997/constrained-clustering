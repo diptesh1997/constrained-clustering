{
 "cells": [
  {
   "cell_type": "code",
   "execution_count": 47,
   "id": "e41959cf",
   "metadata": {},
   "outputs": [],
   "source": [
    "import numpy as np\n",
    "import pandas as pd\n",
    "import os\n",
    "import numpy as np\n",
    "import pandas as pd\n",
    "import os\n",
    "from sklearn.feature_extraction.text import TfidfVectorizer"
   ]
  },
  {
   "cell_type": "code",
   "execution_count": 48,
   "id": "6fdc8a26",
   "metadata": {},
   "outputs": [
    {
     "data": {
      "text/html": [
       "<div>\n",
       "<style scoped>\n",
       "    .dataframe tbody tr th:only-of-type {\n",
       "        vertical-align: middle;\n",
       "    }\n",
       "\n",
       "    .dataframe tbody tr th {\n",
       "        vertical-align: top;\n",
       "    }\n",
       "\n",
       "    .dataframe thead th {\n",
       "        text-align: right;\n",
       "    }\n",
       "</style>\n",
       "<table border=\"1\" class=\"dataframe\">\n",
       "  <thead>\n",
       "    <tr style=\"text-align: right;\">\n",
       "      <th></th>\n",
       "      <th>docno</th>\n",
       "      <th>doclen</th>\n",
       "      <th>text</th>\n",
       "    </tr>\n",
       "  </thead>\n",
       "  <tbody>\n",
       "    <tr>\n",
       "      <th>0</th>\n",
       "      <td>LA071790-0001</td>\n",
       "      <td>318</td>\n",
       "      <td>for prefer skip museum go directli gift shop n...</td>\n",
       "    </tr>\n",
       "    <tr>\n",
       "      <th>1</th>\n",
       "      <td>LA062989-0001</td>\n",
       "      <td>44</td>\n",
       "      <td>express conflict ideolog even contain symbol s...</td>\n",
       "    </tr>\n",
       "    <tr>\n",
       "      <th>2</th>\n",
       "      <td>LA062989-0002</td>\n",
       "      <td>51</td>\n",
       "      <td>how inan reason five suprem court justic rule ...</td>\n",
       "    </tr>\n",
       "    <tr>\n",
       "      <th>3</th>\n",
       "      <td>LA062989-0003</td>\n",
       "      <td>31</td>\n",
       "      <td>former california chief justic rose bird use m...</td>\n",
       "    </tr>\n",
       "    <tr>\n",
       "      <th>4</th>\n",
       "      <td>LA062989-0004</td>\n",
       "      <td>117</td>\n",
       "      <td>angri congressmen vow protect flag headlin art...</td>\n",
       "    </tr>\n",
       "    <tr>\n",
       "      <th>...</th>\n",
       "      <td>...</td>\n",
       "      <td>...</td>\n",
       "      <td>...</td>\n",
       "    </tr>\n",
       "    <tr>\n",
       "      <th>20567</th>\n",
       "      <td>FT922-1326</td>\n",
       "      <td>106</td>\n",
       "      <td>anglia televis announc costcut measur includ d...</td>\n",
       "    </tr>\n",
       "    <tr>\n",
       "      <th>20568</th>\n",
       "      <td>FT922-1327</td>\n",
       "      <td>254</td>\n",
       "      <td>compani are encourag employe travel road rail ...</td>\n",
       "    </tr>\n",
       "    <tr>\n",
       "      <th>20569</th>\n",
       "      <td>FT922-1328</td>\n",
       "      <td>64</td>\n",
       "      <td>the shambl built 13th centuri citi butcheri ce...</td>\n",
       "    </tr>\n",
       "    <tr>\n",
       "      <th>20570</th>\n",
       "      <td>FT922-1329</td>\n",
       "      <td>115</td>\n",
       "      <td>mr andrew kimmin jail head fail blade group fu...</td>\n",
       "    </tr>\n",
       "    <tr>\n",
       "      <th>20571</th>\n",
       "      <td>FT922-1330</td>\n",
       "      <td>216</td>\n",
       "      <td>wellcom uk pharmaceut group yesterday launch w...</td>\n",
       "    </tr>\n",
       "  </tbody>\n",
       "</table>\n",
       "<p>20572 rows × 3 columns</p>\n",
       "</div>"
      ],
      "text/plain": [
       "               docno  doclen  \\\n",
       "0      LA071790-0001     318   \n",
       "1      LA062989-0001      44   \n",
       "2      LA062989-0002      51   \n",
       "3      LA062989-0003      31   \n",
       "4      LA062989-0004     117   \n",
       "...              ...     ...   \n",
       "20567     FT922-1326     106   \n",
       "20568     FT922-1327     254   \n",
       "20569     FT922-1328      64   \n",
       "20570     FT922-1329     115   \n",
       "20571     FT922-1330     216   \n",
       "\n",
       "                                                    text  \n",
       "0      for prefer skip museum go directli gift shop n...  \n",
       "1      express conflict ideolog even contain symbol s...  \n",
       "2      how inan reason five suprem court justic rule ...  \n",
       "3      former california chief justic rose bird use m...  \n",
       "4      angri congressmen vow protect flag headlin art...  \n",
       "...                                                  ...  \n",
       "20567  anglia televis announc costcut measur includ d...  \n",
       "20568  compani are encourag employe travel road rail ...  \n",
       "20569  the shambl built 13th centuri citi butcheri ce...  \n",
       "20570  mr andrew kimmin jail head fail blade group fu...  \n",
       "20571  wellcom uk pharmaceut group yesterday launch w...  \n",
       "\n",
       "[20572 rows x 3 columns]"
      ]
     },
     "execution_count": 48,
     "metadata": {},
     "output_type": "execute_result"
    }
   ],
   "source": [
    "dataset= pd.read_csv(\"C:/Users/Diptesh Mukherjee/Downloads/news_data.csv\")\n",
    "dataset"
   ]
  },
  {
   "cell_type": "code",
   "execution_count": 49,
   "id": "0af4bd77",
   "metadata": {},
   "outputs": [],
   "source": [
    "\n",
    "tfidf = TfidfVectorizer(max_features=100, strip_accents='unicode', analyzer='word',  lowercase=True, use_idf=True)\n",
    "X = tfidf.fit_transform(dataset['text'])"
   ]
  },
  {
   "cell_type": "code",
   "execution_count": 54,
   "id": "1bcc4b15",
   "metadata": {},
   "outputs": [],
   "source": [
    "Y = tfidf.get_feature_names_out()"
   ]
  },
  {
   "cell_type": "code",
   "execution_count": 57,
   "id": "92e726f9",
   "metadata": {},
   "outputs": [],
   "source": [
    "df = pd.DataFrame(X.toarray())"
   ]
  },
  {
   "cell_type": "code",
   "execution_count": 60,
   "id": "9e93e8ee",
   "metadata": {},
   "outputs": [],
   "source": [
    "df.to_csv (r'C:/Users/Diptesh Mukherjee/Downloads/reduced_feature_tfidf.csv', index = False, header=True)\n"
   ]
  },
  {
   "cell_type": "code",
   "execution_count": 35,
   "id": "8f955dee",
   "metadata": {},
   "outputs": [],
   "source": []
  },
  {
   "cell_type": "code",
   "execution_count": 38,
   "id": "b64c58ad",
   "metadata": {
    "collapsed": true
   },
   "outputs": [
    {
     "ename": "AttributeError",
     "evalue": "to_excel not found",
     "output_type": "error",
     "traceback": [
      "\u001b[1;31m---------------------------------------------------------------------------\u001b[0m",
      "\u001b[1;31mAttributeError\u001b[0m                            Traceback (most recent call last)",
      "Input \u001b[1;32mIn [38]\u001b[0m, in \u001b[0;36m<cell line: 1>\u001b[1;34m()\u001b[0m\n\u001b[1;32m----> 1\u001b[0m \u001b[43mX\u001b[49m\u001b[38;5;241;43m.\u001b[39;49m\u001b[43mto_excel\u001b[49m(\u001b[38;5;124m'\u001b[39m\u001b[38;5;124mhttps://stovgude-my.sharepoint.com/:x:/g/personal/harshit_juneja_st_ovgu_de/EfPKiUZA2AZHrKjKZmL9aroBg5wCx6qFaRBEwzrxH5vCPA?rtime=NB9hojFH2kg\u001b[39m\u001b[38;5;124m'\u001b[39m, sheet_name\u001b[38;5;241m=\u001b[39m\u001b[38;5;124m'\u001b[39m\u001b[38;5;124msheet1\u001b[39m\u001b[38;5;124m'\u001b[39m, index\u001b[38;5;241m=\u001b[39m\u001b[38;5;28;01mFalse\u001b[39;00m)\n",
      "File \u001b[1;32m~\\AppData\\Roaming\\Python\\Python39\\site-packages\\scipy\\sparse\\_base.py:764\u001b[0m, in \u001b[0;36mspmatrix.__getattr__\u001b[1;34m(self, attr)\u001b[0m\n\u001b[0;32m    762\u001b[0m     \u001b[38;5;28;01mreturn\u001b[39;00m \u001b[38;5;28mself\u001b[39m\u001b[38;5;241m.\u001b[39mgetnnz()\n\u001b[0;32m    763\u001b[0m \u001b[38;5;28;01melse\u001b[39;00m:\n\u001b[1;32m--> 764\u001b[0m     \u001b[38;5;28;01mraise\u001b[39;00m \u001b[38;5;167;01mAttributeError\u001b[39;00m(attr \u001b[38;5;241m+\u001b[39m \u001b[38;5;124m\"\u001b[39m\u001b[38;5;124m not found\u001b[39m\u001b[38;5;124m\"\u001b[39m)\n",
      "\u001b[1;31mAttributeError\u001b[0m: to_excel not found"
     ]
    }
   ],
   "source": []
  },
  {
   "cell_type": "code",
   "execution_count": 42,
   "id": "2a2bb00e",
   "metadata": {},
   "outputs": [],
   "source": [
    "\n"
   ]
  },
  {
   "cell_type": "code",
   "execution_count": 44,
   "id": "ef8f5037",
   "metadata": {
    "collapsed": true
   },
   "outputs": [
    {
     "data": {
      "text/html": [
       "<div>\n",
       "<style scoped>\n",
       "    .dataframe tbody tr th:only-of-type {\n",
       "        vertical-align: middle;\n",
       "    }\n",
       "\n",
       "    .dataframe tbody tr th {\n",
       "        vertical-align: top;\n",
       "    }\n",
       "\n",
       "    .dataframe thead th {\n",
       "        text-align: right;\n",
       "    }\n",
       "</style>\n",
       "<table border=\"1\" class=\"dataframe\">\n",
       "  <thead>\n",
       "    <tr style=\"text-align: right;\">\n",
       "      <th></th>\n",
       "      <th>0</th>\n",
       "    </tr>\n",
       "  </thead>\n",
       "  <tbody>\n",
       "    <tr>\n",
       "      <th>0</th>\n",
       "      <td>(0, 7)\\t0.11963189423367158\\n  (0, 4)\\t0.089...</td>\n",
       "    </tr>\n",
       "    <tr>\n",
       "      <th>1</th>\n",
       "      <td>(0, 25)\\t0.5572495463560646\\n  (0, 18)\\t0.53...</td>\n",
       "    </tr>\n",
       "    <tr>\n",
       "      <th>2</th>\n",
       "      <td>(0, 91)\\t0.43888574386120505\\n  (0, 98)\\t0.2...</td>\n",
       "    </tr>\n",
       "    <tr>\n",
       "      <th>3</th>\n",
       "      <td>(0, 40)\\t0.38876875370733255\\n  (0, 88)\\t0.3...</td>\n",
       "    </tr>\n",
       "    <tr>\n",
       "      <th>4</th>\n",
       "      <td>(0, 32)\\t0.26196156699006545\\n  (0, 88)\\t0.2...</td>\n",
       "    </tr>\n",
       "    <tr>\n",
       "      <th>...</th>\n",
       "      <td>...</td>\n",
       "    </tr>\n",
       "    <tr>\n",
       "      <th>20567</th>\n",
       "      <td>(0, 6)\\t0.17525478676654213\\n  (0, 58)\\t0.16...</td>\n",
       "    </tr>\n",
       "    <tr>\n",
       "      <th>20568</th>\n",
       "      <td>(0, 6)\\t0.45955277998351207\\n  (0, 99)\\t0.05...</td>\n",
       "    </tr>\n",
       "    <tr>\n",
       "      <th>20569</th>\n",
       "      <td>(0, 86)\\t0.5923626894596158\\n  (0, 70)\\t0.16...</td>\n",
       "    </tr>\n",
       "    <tr>\n",
       "      <th>20570</th>\n",
       "      <td>(0, 99)\\t0.23602406472205406\\n  (0, 86)\\t0.2...</td>\n",
       "    </tr>\n",
       "    <tr>\n",
       "      <th>20571</th>\n",
       "      <td>(0, 99)\\t0.1078494677833722\\n  (0, 74)\\t0.22...</td>\n",
       "    </tr>\n",
       "  </tbody>\n",
       "</table>\n",
       "<p>20572 rows × 1 columns</p>\n",
       "</div>"
      ],
      "text/plain": [
       "                                                       0\n",
       "0        (0, 7)\\t0.11963189423367158\\n  (0, 4)\\t0.089...\n",
       "1        (0, 25)\\t0.5572495463560646\\n  (0, 18)\\t0.53...\n",
       "2        (0, 91)\\t0.43888574386120505\\n  (0, 98)\\t0.2...\n",
       "3        (0, 40)\\t0.38876875370733255\\n  (0, 88)\\t0.3...\n",
       "4        (0, 32)\\t0.26196156699006545\\n  (0, 88)\\t0.2...\n",
       "...                                                  ...\n",
       "20567    (0, 6)\\t0.17525478676654213\\n  (0, 58)\\t0.16...\n",
       "20568    (0, 6)\\t0.45955277998351207\\n  (0, 99)\\t0.05...\n",
       "20569    (0, 86)\\t0.5923626894596158\\n  (0, 70)\\t0.16...\n",
       "20570    (0, 99)\\t0.23602406472205406\\n  (0, 86)\\t0.2...\n",
       "20571    (0, 99)\\t0.1078494677833722\\n  (0, 74)\\t0.22...\n",
       "\n",
       "[20572 rows x 1 columns]"
      ]
     },
     "execution_count": 44,
     "metadata": {},
     "output_type": "execute_result"
    }
   ],
   "source": []
  },
  {
   "cell_type": "code",
   "execution_count": null,
   "id": "3eea2918",
   "metadata": {},
   "outputs": [],
   "source": []
  }
 ],
 "metadata": {
  "kernelspec": {
   "display_name": "Python 3 (ipykernel)",
   "language": "python",
   "name": "python3"
  },
  "language_info": {
   "codemirror_mode": {
    "name": "ipython",
    "version": 3
   },
   "file_extension": ".py",
   "mimetype": "text/x-python",
   "name": "python",
   "nbconvert_exporter": "python",
   "pygments_lexer": "ipython3",
   "version": "3.9.12"
  }
 },
 "nbformat": 4,
 "nbformat_minor": 5
}
